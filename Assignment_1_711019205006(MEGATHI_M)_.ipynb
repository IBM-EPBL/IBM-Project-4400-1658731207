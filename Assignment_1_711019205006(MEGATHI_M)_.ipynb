{
  "cells": [
    {
      "cell_type": "markdown",
      "metadata": {
        "id": "McSxJAwcOdZ1"
      },
      "source": [
        "# Basic Python"
      ]
    },
    {
      "cell_type": "markdown",
      "metadata": {
        "id": "CU48hgo4Owz5"
      },
      "source": [
        "## 1. Split this string"
      ]
    },
    {
      "cell_type": "code",
      "execution_count": null,
      "metadata": {
        "id": "s07c7JK7Oqt-"
      },
      "outputs": [],
      "source": [
        "s = \"Hi there Sam!\""
      ]
    },
    {
      "cell_type": "code",
      "execution_count": null,
      "metadata": {
        "id": "6mGVa3SQYLkb",
        "outputId": "fa61e377-c483-493e-94fc-0c8ecfa4fccb"
      },
      "outputs": [
        {
          "data": {
            "text/plain": [
              "['Hi', 'there', 'Sam!']"
            ]
          },
          "execution_count": 72,
          "metadata": {},
          "output_type": "execute_result"
        }
      ],
      "source": [
        "split = s.split()\n",
        "split"
      ]
    },
    {
      "cell_type": "markdown",
      "metadata": {
        "id": "GH1QBn8HP375"
      },
      "source": [
        "## 2. Use .format() to print the following string. \n",
        "\n",
        "### Output should be: The diameter of Earth is 12742 kilometers."
      ]
    },
    {
      "cell_type": "code",
      "execution_count": null,
      "metadata": {
        "id": "_ZHoml3kPqic"
      },
      "outputs": [],
      "source": [
        "planet = \"Earth\"\n",
        "diameter = 12742"
      ]
    },
    {
      "cell_type": "code",
      "execution_count": null,
      "metadata": {
        "id": "HyRyJv6CYPb4",
        "scrolled": true,
        "outputId": "8827dabc-6725-4d9a-a5ae-10027acf0e43"
      },
      "outputs": [
        {
          "name": "stdout",
          "output_type": "stream",
          "text": [
            "The diameter of Earth is 12742 kilometers.\n"
          ]
        }
      ],
      "source": [
        "print(f\"The diameter of {planet} is {diameter} kilometers.\")"
      ]
    },
    {
      "cell_type": "markdown",
      "metadata": {
        "id": "KE74ZEwkRExZ"
      },
      "source": [
        "## 3. In this nest dictionary grab the word \"hello\""
      ]
    },
    {
      "cell_type": "code",
      "execution_count": null,
      "metadata": {
        "id": "fcVwbCc1QrQI"
      },
      "outputs": [],
      "source": [
        "d = {'k1':[1,2,3,{'tricky':['oh','man','inception',{'target':[1,2,3,'hello']}]}]}"
      ]
    },
    {
      "cell_type": "code",
      "execution_count": null,
      "metadata": {
        "id": "MvbkMZpXYRaw",
        "outputId": "4f3b3c78-d043-4bd0-e9f8-ddca3a1cae0a"
      },
      "outputs": [
        {
          "name": "stdout",
          "output_type": "stream",
          "text": [
            "hello\n"
          ]
        }
      ],
      "source": [
        "print(d['k1'][3]['tricky'][3]['target'][3])"
      ]
    },
    {
      "cell_type": "markdown",
      "metadata": {
        "id": "bw0vVp-9ddjv"
      },
      "source": [
        "# Numpy"
      ]
    },
    {
      "cell_type": "code",
      "execution_count": null,
      "metadata": {
        "id": "LLiE_TYrhA1O"
      },
      "outputs": [],
      "source": [
        "import numpy as np"
      ]
    },
    {
      "cell_type": "markdown",
      "metadata": {
        "id": "wOg8hinbgx30"
      },
      "source": [
        "## 4.1 Create an array of 10 zeros? \n",
        "## 4.2 Create an array of 10 fives?"
      ]
    },
    {
      "cell_type": "code",
      "execution_count": null,
      "metadata": {
        "id": "NHrirmgCYXvU",
        "outputId": "826765a6-dd67-470b-a9da-ed75e6c69ca6"
      },
      "outputs": [
        {
          "name": "stdout",
          "output_type": "stream",
          "text": [
            "An array of 10 zeros : [0. 0. 0. 0. 0. 0. 0. 0. 0. 0.]\n"
          ]
        }
      ],
      "source": [
        "array = np.zeros(10)\n",
        "print(f\"An array of 10 zeros : {array}\")"
      ]
    },
    {
      "cell_type": "code",
      "execution_count": null,
      "metadata": {
        "id": "e4005lsTYXxx",
        "outputId": "ebe719b0-7947-414c-a64a-eb0e5b51fa54"
      },
      "outputs": [
        {
          "name": "stdout",
          "output_type": "stream",
          "text": [
            "An array of 10 fives : [5. 5. 5. 5. 5. 5. 5. 5. 5. 5.]\n"
          ]
        }
      ],
      "source": [
        "array = np.ones(10)*5\n",
        "print(f\"An array of 10 fives : {array}\")"
      ]
    },
    {
      "cell_type": "markdown",
      "metadata": {
        "id": "gZHHDUBvrMX4"
      },
      "source": [
        "## 5. Create an array of all the even integers from 20 to 35"
      ]
    },
    {
      "cell_type": "code",
      "execution_count": null,
      "metadata": {
        "id": "oAI2tbU2Yag-",
        "outputId": "f744148e-7e5b-42e3-c946-d99c1f27bc04"
      },
      "outputs": [
        {
          "name": "stdout",
          "output_type": "stream",
          "text": [
            "An array of even integers: [20 22 24 26 28 30 32 34]\n"
          ]
        }
      ],
      "source": [
        "array = np.arange(20,35,2)\n",
        "print(f\"An array of even integers: {array}\")"
      ]
    },
    {
      "cell_type": "markdown",
      "metadata": {
        "id": "NaOM308NsRpZ"
      },
      "source": [
        "## 6. Create a 3x3 matrix with values ranging from 0 to 8"
      ]
    },
    {
      "cell_type": "code",
      "execution_count": null,
      "metadata": {
        "id": "tOlEVH7BYceE",
        "scrolled": true,
        "outputId": "bd885322-9376-487a-e3a7-fdef069a4f03"
      },
      "outputs": [
        {
          "name": "stdout",
          "output_type": "stream",
          "text": [
            "[[0 1 2]\n",
            " [3 4 5]\n",
            " [6 7 8]]\n"
          ]
        }
      ],
      "source": [
        "matrix = np.arange(0,9).reshape(3,3)\n",
        "print(matrix)"
      ]
    },
    {
      "cell_type": "markdown",
      "metadata": {
        "id": "hQ0dnhAQuU_p"
      },
      "source": [
        "## 7. Concatenate a and b \n",
        "## a = np.array([1, 2, 3]), b = np.array([4, 5, 6])"
      ]
    },
    {
      "cell_type": "code",
      "execution_count": null,
      "metadata": {
        "id": "rAPSw97aYfE0",
        "outputId": "9f42c471-4e83-40fe-c7ca-ba8c5e5a234e"
      },
      "outputs": [
        {
          "data": {
            "text/plain": [
              "array([1, 2, 3, 4, 5, 6])"
            ]
          },
          "execution_count": 68,
          "metadata": {},
          "output_type": "execute_result"
        }
      ],
      "source": [
        "a = np.array([1, 2, 3])\n",
        "b = np.array([4, 5, 6])\n",
        "c = np.concatenate((a, b))\n",
        "c"
      ]
    },
    {
      "cell_type": "markdown",
      "metadata": {
        "id": "dlPEY9DRwZga"
      },
      "source": [
        "# Pandas"
      ]
    },
    {
      "cell_type": "markdown",
      "metadata": {
        "id": "ijoYW51zwr87"
      },
      "source": [
        "## 8. Create a dataframe with 3 rows and 2 columns"
      ]
    },
    {
      "cell_type": "code",
      "execution_count": null,
      "metadata": {
        "id": "T5OxJRZ8uvR7"
      },
      "outputs": [],
      "source": [
        "import pandas as pd\n"
      ]
    },
    {
      "cell_type": "code",
      "execution_count": 1,
      "metadata": {
        "id": "xNpI_XXoYhs0",
        "colab": {
          "base_uri": "https://localhost:8080/",
          "height": 143
        },
        "outputId": "97ef4786-397b-4bba-b383-927c03638ef6"
      },
      "outputs": [
        {
          "output_type": "execute_result",
          "data": {
            "text/plain": [
              "    Name  Age\n",
              "0  meena   18\n",
              "1   siva   30\n",
              "2  durke   15"
            ],
            "text/html": [
              "\n",
              "  <div id=\"df-eac4ea97-91a6-4ca3-b1b3-ea44882fd37a\">\n",
              "    <div class=\"colab-df-container\">\n",
              "      <div>\n",
              "<style scoped>\n",
              "    .dataframe tbody tr th:only-of-type {\n",
              "        vertical-align: middle;\n",
              "    }\n",
              "\n",
              "    .dataframe tbody tr th {\n",
              "        vertical-align: top;\n",
              "    }\n",
              "\n",
              "    .dataframe thead th {\n",
              "        text-align: right;\n",
              "    }\n",
              "</style>\n",
              "<table border=\"1\" class=\"dataframe\">\n",
              "  <thead>\n",
              "    <tr style=\"text-align: right;\">\n",
              "      <th></th>\n",
              "      <th>Name</th>\n",
              "      <th>Age</th>\n",
              "    </tr>\n",
              "  </thead>\n",
              "  <tbody>\n",
              "    <tr>\n",
              "      <th>0</th>\n",
              "      <td>meena</td>\n",
              "      <td>18</td>\n",
              "    </tr>\n",
              "    <tr>\n",
              "      <th>1</th>\n",
              "      <td>siva</td>\n",
              "      <td>30</td>\n",
              "    </tr>\n",
              "    <tr>\n",
              "      <th>2</th>\n",
              "      <td>durke</td>\n",
              "      <td>15</td>\n",
              "    </tr>\n",
              "  </tbody>\n",
              "</table>\n",
              "</div>\n",
              "      <button class=\"colab-df-convert\" onclick=\"convertToInteractive('df-eac4ea97-91a6-4ca3-b1b3-ea44882fd37a')\"\n",
              "              title=\"Convert this dataframe to an interactive table.\"\n",
              "              style=\"display:none;\">\n",
              "        \n",
              "  <svg xmlns=\"http://www.w3.org/2000/svg\" height=\"24px\"viewBox=\"0 0 24 24\"\n",
              "       width=\"24px\">\n",
              "    <path d=\"M0 0h24v24H0V0z\" fill=\"none\"/>\n",
              "    <path d=\"M18.56 5.44l.94 2.06.94-2.06 2.06-.94-2.06-.94-.94-2.06-.94 2.06-2.06.94zm-11 1L8.5 8.5l.94-2.06 2.06-.94-2.06-.94L8.5 2.5l-.94 2.06-2.06.94zm10 10l.94 2.06.94-2.06 2.06-.94-2.06-.94-.94-2.06-.94 2.06-2.06.94z\"/><path d=\"M17.41 7.96l-1.37-1.37c-.4-.4-.92-.59-1.43-.59-.52 0-1.04.2-1.43.59L10.3 9.45l-7.72 7.72c-.78.78-.78 2.05 0 2.83L4 21.41c.39.39.9.59 1.41.59.51 0 1.02-.2 1.41-.59l7.78-7.78 2.81-2.81c.8-.78.8-2.07 0-2.86zM5.41 20L4 18.59l7.72-7.72 1.47 1.35L5.41 20z\"/>\n",
              "  </svg>\n",
              "      </button>\n",
              "      \n",
              "  <style>\n",
              "    .colab-df-container {\n",
              "      display:flex;\n",
              "      flex-wrap:wrap;\n",
              "      gap: 12px;\n",
              "    }\n",
              "\n",
              "    .colab-df-convert {\n",
              "      background-color: #E8F0FE;\n",
              "      border: none;\n",
              "      border-radius: 50%;\n",
              "      cursor: pointer;\n",
              "      display: none;\n",
              "      fill: #1967D2;\n",
              "      height: 32px;\n",
              "      padding: 0 0 0 0;\n",
              "      width: 32px;\n",
              "    }\n",
              "\n",
              "    .colab-df-convert:hover {\n",
              "      background-color: #E2EBFA;\n",
              "      box-shadow: 0px 1px 2px rgba(60, 64, 67, 0.3), 0px 1px 3px 1px rgba(60, 64, 67, 0.15);\n",
              "      fill: #174EA6;\n",
              "    }\n",
              "\n",
              "    [theme=dark] .colab-df-convert {\n",
              "      background-color: #3B4455;\n",
              "      fill: #D2E3FC;\n",
              "    }\n",
              "\n",
              "    [theme=dark] .colab-df-convert:hover {\n",
              "      background-color: #434B5C;\n",
              "      box-shadow: 0px 1px 3px 1px rgba(0, 0, 0, 0.15);\n",
              "      filter: drop-shadow(0px 1px 2px rgba(0, 0, 0, 0.3));\n",
              "      fill: #FFFFFF;\n",
              "    }\n",
              "  </style>\n",
              "\n",
              "      <script>\n",
              "        const buttonEl =\n",
              "          document.querySelector('#df-eac4ea97-91a6-4ca3-b1b3-ea44882fd37a button.colab-df-convert');\n",
              "        buttonEl.style.display =\n",
              "          google.colab.kernel.accessAllowed ? 'block' : 'none';\n",
              "\n",
              "        async function convertToInteractive(key) {\n",
              "          const element = document.querySelector('#df-eac4ea97-91a6-4ca3-b1b3-ea44882fd37a');\n",
              "          const dataTable =\n",
              "            await google.colab.kernel.invokeFunction('convertToInteractive',\n",
              "                                                     [key], {});\n",
              "          if (!dataTable) return;\n",
              "\n",
              "          const docLinkHtml = 'Like what you see? Visit the ' +\n",
              "            '<a target=\"_blank\" href=https://colab.research.google.com/notebooks/data_table.ipynb>data table notebook</a>'\n",
              "            + ' to learn more about interactive tables.';\n",
              "          element.innerHTML = '';\n",
              "          dataTable['output_type'] = 'display_data';\n",
              "          await google.colab.output.renderOutput(dataTable, element);\n",
              "          const docLink = document.createElement('div');\n",
              "          docLink.innerHTML = docLinkHtml;\n",
              "          element.appendChild(docLink);\n",
              "        }\n",
              "      </script>\n",
              "    </div>\n",
              "  </div>\n",
              "  "
            ]
          },
          "metadata": {},
          "execution_count": 1
        }
      ],
      "source": [
        "import pandas as pd\n",
        "\n",
        "data = {'Name': ['meena', 'siva', 'durke',],\n",
        "       'Age': [18, 30, 15]}\n",
        "df = pd.DataFrame(data)\n",
        "df"
      ]
    },
    {
      "cell_type": "markdown",
      "metadata": {
        "id": "UXSmdNclyJQD"
      },
      "source": [
        "## 9. Generate the series of dates from 1st Jan, 2023 to 10th Feb, 2023"
      ]
    },
    {
      "cell_type": "code",
      "execution_count": 2,
      "metadata": {
        "id": "dgyC0JhVYl4F",
        "outputId": "d2fb0b20-0fb5-45b0-8107-2d3b63068bb8",
        "colab": {
          "base_uri": "https://localhost:8080/"
        }
      },
      "outputs": [
        {
          "output_type": "stream",
          "name": "stdout",
          "text": [
            "2022-02-02 00:00:00\n",
            "2022-02-03 00:00:00\n",
            "2022-02-04 00:00:00\n",
            "2022-02-05 00:00:00\n",
            "2022-02-06 00:00:00\n",
            "2022-02-07 00:00:00\n",
            "2022-02-08 00:00:00\n",
            "2022-02-09 00:00:00\n",
            "2022-02-10 00:00:00\n",
            "2022-02-11 00:00:00\n",
            "2022-02-12 00:00:00\n",
            "2022-02-13 00:00:00\n",
            "2022-02-14 00:00:00\n",
            "2022-02-15 00:00:00\n",
            "2022-02-16 00:00:00\n",
            "2022-02-17 00:00:00\n",
            "2022-02-18 00:00:00\n",
            "2022-02-19 00:00:00\n",
            "2022-02-20 00:00:00\n",
            "2022-02-21 00:00:00\n",
            "2022-02-22 00:00:00\n",
            "2022-02-23 00:00:00\n",
            "2022-02-24 00:00:00\n",
            "2022-02-25 00:00:00\n",
            "2022-02-26 00:00:00\n",
            "2022-02-27 00:00:00\n",
            "2022-02-28 00:00:00\n",
            "2022-03-01 00:00:00\n",
            "2022-03-02 00:00:00\n",
            "2022-03-03 00:00:00\n",
            "2022-03-04 00:00:00\n",
            "2022-03-05 00:00:00\n",
            "2022-03-06 00:00:00\n",
            "2022-03-07 00:00:00\n",
            "2022-03-08 00:00:00\n",
            "2022-03-09 00:00:00\n",
            "2022-03-10 00:00:00\n",
            "2022-03-11 00:00:00\n",
            "2022-03-12 00:00:00\n",
            "2022-03-13 00:00:00\n",
            "2022-03-14 00:00:00\n",
            "2022-03-15 00:00:00\n",
            "2022-03-16 00:00:00\n",
            "2022-03-17 00:00:00\n",
            "2022-03-18 00:00:00\n",
            "2022-03-19 00:00:00\n",
            "2022-03-20 00:00:00\n",
            "2022-03-21 00:00:00\n",
            "2022-03-22 00:00:00\n",
            "2022-03-23 00:00:00\n",
            "2022-03-24 00:00:00\n",
            "2022-03-25 00:00:00\n",
            "2022-03-26 00:00:00\n",
            "2022-03-27 00:00:00\n",
            "2022-03-28 00:00:00\n",
            "2022-03-29 00:00:00\n",
            "2022-03-30 00:00:00\n",
            "2022-03-31 00:00:00\n",
            "2022-04-01 00:00:00\n",
            "2022-04-02 00:00:00\n",
            "2022-04-03 00:00:00\n",
            "2022-04-04 00:00:00\n",
            "2022-04-05 00:00:00\n",
            "2022-04-06 00:00:00\n",
            "2022-04-07 00:00:00\n",
            "2022-04-08 00:00:00\n",
            "2022-04-09 00:00:00\n",
            "2022-04-10 00:00:00\n",
            "2022-04-11 00:00:00\n",
            "2022-04-12 00:00:00\n",
            "2022-04-13 00:00:00\n",
            "2022-04-14 00:00:00\n",
            "2022-04-15 00:00:00\n",
            "2022-04-16 00:00:00\n",
            "2022-04-17 00:00:00\n",
            "2022-04-18 00:00:00\n",
            "2022-04-19 00:00:00\n",
            "2022-04-20 00:00:00\n",
            "2022-04-21 00:00:00\n",
            "2022-04-22 00:00:00\n",
            "2022-04-23 00:00:00\n",
            "2022-04-24 00:00:00\n",
            "2022-04-25 00:00:00\n",
            "2022-04-26 00:00:00\n",
            "2022-04-27 00:00:00\n",
            "2022-04-28 00:00:00\n",
            "2022-04-29 00:00:00\n",
            "2022-04-30 00:00:00\n",
            "2022-05-01 00:00:00\n",
            "2022-05-02 00:00:00\n",
            "2022-05-03 00:00:00\n",
            "2022-05-04 00:00:00\n",
            "2022-05-05 00:00:00\n",
            "2022-05-06 00:00:00\n",
            "2022-05-07 00:00:00\n",
            "2022-05-08 00:00:00\n",
            "2022-05-09 00:00:00\n",
            "2022-05-10 00:00:00\n",
            "2022-05-11 00:00:00\n",
            "2022-05-12 00:00:00\n",
            "2022-05-13 00:00:00\n",
            "2022-05-14 00:00:00\n",
            "2022-05-15 00:00:00\n",
            "2022-05-16 00:00:00\n",
            "2022-05-17 00:00:00\n",
            "2022-05-18 00:00:00\n",
            "2022-05-19 00:00:00\n",
            "2022-05-20 00:00:00\n",
            "2022-05-21 00:00:00\n",
            "2022-05-22 00:00:00\n",
            "2022-05-23 00:00:00\n",
            "2022-05-24 00:00:00\n",
            "2022-05-25 00:00:00\n",
            "2022-05-26 00:00:00\n",
            "2022-05-27 00:00:00\n",
            "2022-05-28 00:00:00\n",
            "2022-05-29 00:00:00\n",
            "2022-05-30 00:00:00\n",
            "2022-05-31 00:00:00\n",
            "2022-06-01 00:00:00\n",
            "2022-06-02 00:00:00\n",
            "2022-06-03 00:00:00\n",
            "2022-06-04 00:00:00\n",
            "2022-06-05 00:00:00\n",
            "2022-06-06 00:00:00\n",
            "2022-06-07 00:00:00\n",
            "2022-06-08 00:00:00\n",
            "2022-06-09 00:00:00\n",
            "2022-06-10 00:00:00\n",
            "2022-06-11 00:00:00\n",
            "2022-06-12 00:00:00\n",
            "2022-06-13 00:00:00\n",
            "2022-06-14 00:00:00\n",
            "2022-06-15 00:00:00\n",
            "2022-06-16 00:00:00\n",
            "2022-06-17 00:00:00\n",
            "2022-06-18 00:00:00\n",
            "2022-06-19 00:00:00\n",
            "2022-06-20 00:00:00\n",
            "2022-06-21 00:00:00\n",
            "2022-06-22 00:00:00\n",
            "2022-06-23 00:00:00\n",
            "2022-06-24 00:00:00\n",
            "2022-06-25 00:00:00\n",
            "2022-06-26 00:00:00\n",
            "2022-06-27 00:00:00\n",
            "2022-06-28 00:00:00\n",
            "2022-06-29 00:00:00\n",
            "2022-06-30 00:00:00\n",
            "2022-07-01 00:00:00\n",
            "2022-07-02 00:00:00\n",
            "2022-07-03 00:00:00\n",
            "2022-07-04 00:00:00\n",
            "2022-07-05 00:00:00\n",
            "2022-07-06 00:00:00\n",
            "2022-07-07 00:00:00\n",
            "2022-07-08 00:00:00\n",
            "2022-07-09 00:00:00\n",
            "2022-07-10 00:00:00\n",
            "2022-07-11 00:00:00\n",
            "2022-07-12 00:00:00\n",
            "2022-07-13 00:00:00\n",
            "2022-07-14 00:00:00\n",
            "2022-07-15 00:00:00\n",
            "2022-07-16 00:00:00\n",
            "2022-07-17 00:00:00\n",
            "2022-07-18 00:00:00\n",
            "2022-07-19 00:00:00\n",
            "2022-07-20 00:00:00\n",
            "2022-07-21 00:00:00\n",
            "2022-07-22 00:00:00\n",
            "2022-07-23 00:00:00\n",
            "2022-07-24 00:00:00\n",
            "2022-07-25 00:00:00\n",
            "2022-07-26 00:00:00\n",
            "2022-07-27 00:00:00\n",
            "2022-07-28 00:00:00\n",
            "2022-07-29 00:00:00\n",
            "2022-07-30 00:00:00\n",
            "2022-07-31 00:00:00\n",
            "2022-08-01 00:00:00\n",
            "2022-08-02 00:00:00\n",
            "2022-08-03 00:00:00\n",
            "2022-08-04 00:00:00\n",
            "2022-08-05 00:00:00\n",
            "2022-08-06 00:00:00\n",
            "2022-08-07 00:00:00\n",
            "2022-08-08 00:00:00\n",
            "2022-08-09 00:00:00\n",
            "2022-08-10 00:00:00\n",
            "2022-08-11 00:00:00\n",
            "2022-08-12 00:00:00\n",
            "2022-08-13 00:00:00\n",
            "2022-08-14 00:00:00\n",
            "2022-08-15 00:00:00\n",
            "2022-08-16 00:00:00\n",
            "2022-08-17 00:00:00\n",
            "2022-08-18 00:00:00\n",
            "2022-08-19 00:00:00\n",
            "2022-08-20 00:00:00\n",
            "2022-08-21 00:00:00\n",
            "2022-08-22 00:00:00\n",
            "2022-08-23 00:00:00\n",
            "2022-08-24 00:00:00\n",
            "2022-08-25 00:00:00\n",
            "2022-08-26 00:00:00\n",
            "2022-08-27 00:00:00\n",
            "2022-08-28 00:00:00\n",
            "2022-08-29 00:00:00\n",
            "2022-08-30 00:00:00\n",
            "2022-08-31 00:00:00\n",
            "2022-09-01 00:00:00\n",
            "2022-09-02 00:00:00\n",
            "2022-09-03 00:00:00\n",
            "2022-09-04 00:00:00\n",
            "2022-09-05 00:00:00\n",
            "2022-09-06 00:00:00\n",
            "2022-09-07 00:00:00\n",
            "2022-09-08 00:00:00\n",
            "2022-09-09 00:00:00\n",
            "2022-09-10 00:00:00\n",
            "2022-09-11 00:00:00\n",
            "2022-09-12 00:00:00\n",
            "2022-09-13 00:00:00\n",
            "2022-09-14 00:00:00\n",
            "2022-09-15 00:00:00\n",
            "2022-09-16 00:00:00\n",
            "2022-09-17 00:00:00\n",
            "2022-09-18 00:00:00\n",
            "2022-09-19 00:00:00\n",
            "2022-09-20 00:00:00\n",
            "2022-09-21 00:00:00\n",
            "2022-09-22 00:00:00\n",
            "2022-09-23 00:00:00\n",
            "2022-09-24 00:00:00\n",
            "2022-09-25 00:00:00\n",
            "2022-09-26 00:00:00\n",
            "2022-09-27 00:00:00\n",
            "2022-09-28 00:00:00\n",
            "2022-09-29 00:00:00\n",
            "2022-09-30 00:00:00\n",
            "2022-10-01 00:00:00\n",
            "2022-10-02 00:00:00\n",
            "2022-10-03 00:00:00\n"
          ]
        }
      ],
      "source": [
        "dates = pd.date_range(start ='2-02-2022', end ='10-03-2022')\n",
        "\n",
        "for val in dates:\n",
        "    print(val)"
      ]
    },
    {
      "cell_type": "markdown",
      "metadata": {
        "id": "ZizSetD-y5az"
      },
      "source": [
        "## 10. Create 2D list to DataFrame\n",
        "\n",
        "lists = [[1, 'aaa', 22],\n",
        "         [2, 'bbb', 25],\n",
        "         [3, 'ccc', 24]]"
      ]
    },
    {
      "cell_type": "code",
      "execution_count": 4,
      "metadata": {
        "id": "_XMC8aEt0llB"
      },
      "outputs": [],
      "source": [
        "lists = [[1, 'aaa',22], [2,'bbb',25], [3, 'ccc', 24]]"
      ]
    },
    {
      "cell_type": "code",
      "execution_count": null,
      "metadata": {
        "id": "knH76sDKYsVX",
        "colab": {
          "base_uri": "https://localhost:8080/",
          "height": 143
        },
        "outputId": "add6902c-ba0a-4396-b800-533ff6079910"
      },
      "outputs": [
        {
          "output_type": "execute_result",
          "data": {
            "text/plain": [
              "   0    1   2\n",
              "0  1  aaa  35\n",
              "1  2  bbb  45\n",
              "2  3  ccc  55"
            ],
            "text/html": [
              "\n",
              "  <div id=\"df-80f6fc95-8617-4be6-8f48-dec2bbe1b8a4\">\n",
              "    <div class=\"colab-df-container\">\n",
              "      <div>\n",
              "<style scoped>\n",
              "    .dataframe tbody tr th:only-of-type {\n",
              "        vertical-align: middle;\n",
              "    }\n",
              "\n",
              "    .dataframe tbody tr th {\n",
              "        vertical-align: top;\n",
              "    }\n",
              "\n",
              "    .dataframe thead th {\n",
              "        text-align: right;\n",
              "    }\n",
              "</style>\n",
              "<table border=\"1\" class=\"dataframe\">\n",
              "  <thead>\n",
              "    <tr style=\"text-align: right;\">\n",
              "      <th></th>\n",
              "      <th>0</th>\n",
              "      <th>1</th>\n",
              "      <th>2</th>\n",
              "    </tr>\n",
              "  </thead>\n",
              "  <tbody>\n",
              "    <tr>\n",
              "      <th>0</th>\n",
              "      <td>1</td>\n",
              "      <td>aaa</td>\n",
              "      <td>35</td>\n",
              "    </tr>\n",
              "    <tr>\n",
              "      <th>1</th>\n",
              "      <td>2</td>\n",
              "      <td>bbb</td>\n",
              "      <td>45</td>\n",
              "    </tr>\n",
              "    <tr>\n",
              "      <th>2</th>\n",
              "      <td>3</td>\n",
              "      <td>ccc</td>\n",
              "      <td>55</td>\n",
              "    </tr>\n",
              "  </tbody>\n",
              "</table>\n",
              "</div>\n",
              "      <button class=\"colab-df-convert\" onclick=\"convertToInteractive('df-80f6fc95-8617-4be6-8f48-dec2bbe1b8a4')\"\n",
              "              title=\"Convert this dataframe to an interactive table.\"\n",
              "              style=\"display:none;\">\n",
              "        \n",
              "  <svg xmlns=\"http://www.w3.org/2000/svg\" height=\"24px\"viewBox=\"0 0 24 24\"\n",
              "       width=\"24px\">\n",
              "    <path d=\"M0 0h24v24H0V0z\" fill=\"none\"/>\n",
              "    <path d=\"M18.56 5.44l.94 2.06.94-2.06 2.06-.94-2.06-.94-.94-2.06-.94 2.06-2.06.94zm-11 1L8.5 8.5l.94-2.06 2.06-.94-2.06-.94L8.5 2.5l-.94 2.06-2.06.94zm10 10l.94 2.06.94-2.06 2.06-.94-2.06-.94-.94-2.06-.94 2.06-2.06.94z\"/><path d=\"M17.41 7.96l-1.37-1.37c-.4-.4-.92-.59-1.43-.59-.52 0-1.04.2-1.43.59L10.3 9.45l-7.72 7.72c-.78.78-.78 2.05 0 2.83L4 21.41c.39.39.9.59 1.41.59.51 0 1.02-.2 1.41-.59l7.78-7.78 2.81-2.81c.8-.78.8-2.07 0-2.86zM5.41 20L4 18.59l7.72-7.72 1.47 1.35L5.41 20z\"/>\n",
              "  </svg>\n",
              "      </button>\n",
              "      \n",
              "  <style>\n",
              "    .colab-df-container {\n",
              "      display:flex;\n",
              "      flex-wrap:wrap;\n",
              "      gap: 12px;\n",
              "    }\n",
              "\n",
              "    .colab-df-convert {\n",
              "      background-color: #E8F0FE;\n",
              "      border: none;\n",
              "      border-radius: 50%;\n",
              "      cursor: pointer;\n",
              "      display: none;\n",
              "      fill: #1967D2;\n",
              "      height: 32px;\n",
              "      padding: 0 0 0 0;\n",
              "      width: 32px;\n",
              "    }\n",
              "\n",
              "    .colab-df-convert:hover {\n",
              "      background-color: #E2EBFA;\n",
              "      box-shadow: 0px 1px 2px rgba(60, 64, 67, 0.3), 0px 1px 3px 1px rgba(60, 64, 67, 0.15);\n",
              "      fill: #174EA6;\n",
              "    }\n",
              "\n",
              "    [theme=dark] .colab-df-convert {\n",
              "      background-color: #3B4455;\n",
              "      fill: #D2E3FC;\n",
              "    }\n",
              "\n",
              "    [theme=dark] .colab-df-convert:hover {\n",
              "      background-color: #434B5C;\n",
              "      box-shadow: 0px 1px 3px 1px rgba(0, 0, 0, 0.15);\n",
              "      filter: drop-shadow(0px 1px 2px rgba(0, 0, 0, 0.3));\n",
              "      fill: #FFFFFF;\n",
              "    }\n",
              "  </style>\n",
              "\n",
              "      <script>\n",
              "        const buttonEl =\n",
              "          document.querySelector('#df-80f6fc95-8617-4be6-8f48-dec2bbe1b8a4 button.colab-df-convert');\n",
              "        buttonEl.style.display =\n",
              "          google.colab.kernel.accessAllowed ? 'block' : 'none';\n",
              "\n",
              "        async function convertToInteractive(key) {\n",
              "          const element = document.querySelector('#df-80f6fc95-8617-4be6-8f48-dec2bbe1b8a4');\n",
              "          const dataTable =\n",
              "            await google.colab.kernel.invokeFunction('convertToInteractive',\n",
              "                                                     [key], {});\n",
              "          if (!dataTable) return;\n",
              "\n",
              "          const docLinkHtml = 'Like what you see? Visit the ' +\n",
              "            '<a target=\"_blank\" href=https://colab.research.google.com/notebooks/data_table.ipynb>data table notebook</a>'\n",
              "            + ' to learn more about interactive tables.';\n",
              "          element.innerHTML = '';\n",
              "          dataTable['output_type'] = 'display_data';\n",
              "          await google.colab.output.renderOutput(dataTable, element);\n",
              "          const docLink = document.createElement('div');\n",
              "          docLink.innerHTML = docLinkHtml;\n",
              "          element.appendChild(docLink);\n",
              "        }\n",
              "      </script>\n",
              "    </div>\n",
              "  </div>\n",
              "  "
            ]
          },
          "metadata": {},
          "execution_count": 5
        }
      ],
      "source": [
        "df = pd.DataFrame(lists)\n",
        "df"
      ]
    }
  ],
  "metadata": {
    "colab": {
      "collapsed_sections": [],
      "provenance": []
    },
    "kernelspec": {
      "display_name": "Python 3 (ipykernel)",
      "language": "python",
      "name": "python3"
    },
    "language_info": {
      "codemirror_mode": {
        "name": "ipython",
        "version": 3
      },
      "file_extension": ".py",
      "mimetype": "text/x-python",
      "name": "python",
      "nbconvert_exporter": "python",
      "pygments_lexer": "ipython3",
      "version": "3.9.7"
    }
  },
  "nbformat": 4,
  "nbformat_minor": 0
}